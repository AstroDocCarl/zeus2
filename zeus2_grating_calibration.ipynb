{
 "metadata": {
  "name": "",
  "signature": "sha256:5d64bc4a0da32ea43ff0b16a31a95e4482a3d224e4433c38df8a3fd95b908db5"
 },
 "nbformat": 3,
 "nbformat_minor": 0,
 "worksheets": [
  {
   "cells": [
    {
     "cell_type": "heading",
     "level": 1,
     "metadata": {},
     "source": [
      "ZEUS-2 Grating Calibration Notebook"
     ]
    },
    {
     "cell_type": "heading",
     "level": 4,
     "metadata": {},
     "source": [
      "This worksheet provides a grating calibration for ZEUS-2 on the Sept 2014 observing run to APEX. It is organized as follows. Section 1 provides intial parameters and while section 2 defines the relavent functions for calculating wavelengths and grating positions. Section 3 lists commonly observed spectral lines. Lastly section 4 provides several examples for calculating wavelengths and pixels. It should be noted at all wavelengths are in microns, velocities in km/s.\n",
      "\n",
      "Directions: First, run the entire worksheet. Then scroll to the desired cell section 4 to calculate wavelength, grating position, or pixel postion. Make your appropriate edits to the desired cell and run that cell by press \"shift+enter\"."
     ]
    },
    {
     "cell_type": "heading",
     "level": 2,
     "metadata": {},
     "source": [
      "1) Parameter Intialization"
     ]
    },
    {
     "cell_type": "code",
     "collapsed": true,
     "input": [
      "import numpy as np\n",
      "\n",
      "#---------------------------------------------------------------------------#\n",
      "#Initial Parameters - Don't edit\n",
      "#---------------------------------------------------------------------------#\n",
      "#ZEUSII values\n",
      "alpha_min= 54.33                #minimum grating \n",
      "alpha_max = 74.4                #maximum grating \n",
      "alpha_max_index = alpha_min     #angle at the MAXIMUM index\n",
      "alpha_min_index = alpha_max     #angle at the MINIMUM index\n",
      "Rd = 1.8                        #Grating drive ratio, 1 rotation of the grating \n",
      "                                #drive shaft moves the grating 1.8 degrees\n",
      "Rg = 256.0                      #Stepper and drive gear ratio, 256 steps of the \n",
      "                                #motor gives 1 rotation of the grating drive shaft \n",
      "alpha_adj = 0.0                 #can be used if the grating experienced a shift in \n",
      "                                #the grating angle due to removing/reinstalling the grating. \n",
      "index_max = 2856                #corresponds to when the grating is at alpha_min,     \n",
      "index_min = 0                   #corresponds to when the grating is at alpha_max\n",
      "                                #can be updated to reflect preferences in the index\n",
      "index_mid = 1480                #This is the grating index of the approximate middle \n",
      "                                #of the grating range. In truth, the value\n",
      "                                #here is arbiratary and can be any value in the\n",
      "                                #range of possible grating indexes.\n",
      "\n",
      "#alph_mid determines the angle of index_mid\n",
      "alpha_mid = (alpha_max_index-alpha_min_index)/(index_max-index_min)*(index_mid\n",
      "                -index_min)+alpha_min_index\n",
      "\n",
      "#------------------------------------------------------------------------------#\n",
      "#       Basica Functions that relate grating index (Ig) and angle (alpha)      #\n",
      "#------------------------------------------------------------------------------#\n",
      "\n",
      "#function which defines the grating angle alpha as a function of the grating or \n",
      "#   stepper motor index Ig\n",
      "def alpha(Ig):\n",
      "    alpha = alpha_mid+alpha_adj-(Ig-index_mid)*Rd/Rg\n",
      "    return alpha\n",
      "    \n",
      "def index(alpha):\n",
      "    index = (alpha_mid+alpha_adj-alpha)*Rg/Rd+index_mid\n",
      "    return index\n",
      "\n",
      "#function which defines the order of the grating given the wavelength being observed\n",
      "#   additional logic will need to be added here to deal with the shortwavelength array\n",
      "\n",
      "def n_given_wave(wavelength):\n",
      "    if wavelength < 395:\n",
      "        return 5\n",
      "    if wavelength > 395:\n",
      "        return 4\n",
      "    \n",
      "#--------------------------------------------------------------------------#\n",
      "# Grating Calibration Coefficients -  fit by CDF 2014.09. 05\n",
      "# Based on the CO65 and CO76 gas cell measurements from 2014.07.24\n",
      "#--------------------------------------------------------------------------#\n",
      "coeff = np.array([ -5.35513310e+00,  -1.12193029e-02,   5.72334986e+00,\n",
      "        -3.52362593e+03,   8.03896712e+03,  -4.15478154e+03,\n",
      "        -2.30279157e-02,  -3.16870685e-01,   6.36098126e-02])"
     ],
     "language": "python",
     "metadata": {},
     "outputs": [],
     "prompt_number": 82
    },
    {
     "cell_type": "heading",
     "level": 2,
     "metadata": {},
     "source": [
      "2) Primary Grating Calbration Functions"
     ]
    },
    {
     "cell_type": "code",
     "collapsed": false,
     "input": [
      "#will calculate a wavelength at a given pixel (py,px), when given an order n,\n",
      "#grating angle alpha, and calibration coefficient array\n",
      "def cal_wavelength(n,alpha,py,px,coeff):\n",
      "    n = float(n)\n",
      "    py = float(py)\n",
      "    px = float(px)\n",
      "    alpha =float(alpha)\n",
      "    wavelength =  5/n*(coeff[0]*np.sin(np.pi/180*alpha)*(py+(coeff[6]*px**2+coeff[7]*px+coeff[8]))\n",
      "                    +coeff[1]*(py+(coeff[6]*px**2+coeff[7]*px+coeff[8]))**2\n",
      "                    +coeff[2]*(py+(coeff[6]*px**2+coeff[7]*px+coeff[8]))\n",
      "                    +coeff[3]\n",
      "                    +coeff[4]*np.sin(np.pi/180*alpha)\n",
      "                    +coeff[5]*(np.sin(np.pi/180*alpha))**2) \n",
      "    return round(wavelength,5)    \n",
      "\n",
      "#will calculate a grating index to place specific wavelength in grating order n\n",
      "# on a pixel (py,px), given a calibration coefficient array    \n",
      "def cal_index(n,wavelength,py,px,coeff):\n",
      "    py = float(py)\n",
      "    px = float(px)\n",
      "    n = float(n)\n",
      "    wavelength = float(wavelength)\n",
      "    a= coeff[5]\n",
      "    b= coeff[0]*(py+(coeff[6]*px**2+coeff[7]*px+coeff[8]))+coeff[4]\n",
      "    c= (coeff[1]*(py+(coeff[6]*px**2+coeff[7]*px+coeff[8]))**2\n",
      "        +coeff[2]*(py+(coeff[6]*px**2+coeff[7]*px+coeff[8]))\n",
      "        +coeff[3])-wavelength*n/5\n",
      "    alpha = np.arcsin((-b+np.sqrt(b**2-4*a*c))/(2*a))*180/np.pi\n",
      "    #print alpha\n",
      "    cal_index = round(index(alpha))\n",
      "    return round(cal_index,1)\n",
      "\n",
      "#will calculate the spectral position of a pixel (py) given an order, spatial position (px), \n",
      "#wavelength and grating angle,  coefficient array      \n",
      "def cal_py(n,px,wavelength,alpha,coeff):\n",
      "    n = float(n)\n",
      "    wavelength = float(wavelength)\n",
      "    alpha =float(alpha)\n",
      "    a = coeff[1]\n",
      "    b = coeff[0]*np.sin(np.pi/180*alpha) + coeff[2]\n",
      "    c = -(wavelength*n/5-(coeff[3]+coeff[4]*np.sin(np.pi/180*alpha)+coeff[5]*(np.sin(np.pi/180*alpha))**2))\n",
      "    py = (((-b+np.sqrt(b**2-4*a*c))/(2*a)))-(coeff[6]*px**2+coeff[7]*px+coeff[8])\n",
      "    return round(py,1)\n",
      "\n",
      "#will calculate the spatial position of a pixel (px) given an order, spectral position (py), \n",
      "#wavelength and grating angle,  coefficient array  \n",
      "def cal_px(n,py,wavelength,alpha,coeff):\n",
      "    n = float(n)\n",
      "    wavelength = float(wavelength)\n",
      "    alpha =float(alpha)\n",
      "    a = coeff[1]\n",
      "    b = coeff[0]*np.sin(np.pi/180*alpha) + coeff[2]\n",
      "    c = -(wavelength*n/5-(coeff[3]+coeff[4]*np.sin(np.pi/180*alpha)+coeff[5]*(np.sin(np.pi/180*alpha))**2))\n",
      "    ax = coeff[6]\n",
      "    bx = coeff[7]\n",
      "    cx = py + coeff[8] - (((-b+np.sqrt(b**2-4*a*c))/(2*a)))\n",
      "    px = (-bx-np.sqrt(bx**2-4*ax*cx))/(2*ax)\n",
      "    return round(px,1)\n",
      "    "
     ],
     "language": "python",
     "metadata": {},
     "outputs": [],
     "prompt_number": 83
    },
    {
     "cell_type": "heading",
     "level": 2,
     "metadata": {},
     "source": [
      "3) Important Spectral Lines and Redshfit functions"
     ]
    },
    {
     "cell_type": "code",
     "collapsed": false,
     "input": [
      "co87    =  325.225163 #micron\n",
      "co76    =  371.650429 #micron\n",
      "co65    =  433.556227 #micron\n",
      "co65_13 =  453.49765  #micron\n",
      "co87_13 =  340.181208 #micron\n",
      "ci      =  370.414364 #micron\n",
      "\n",
      "oiii52  =  51.8145    #micron\n",
      "oiii88  =  88.356     #micron\n",
      "nii122  = 121.898     #micron\n",
      "nii205  = 205.1782    #micron\n",
      "cii158  = 157.7409    #micron\n",
      "oi63    =  63.1837    #micron\n",
      "oi145   = 145.526     #micron\n",
      "\n",
      "def wavelength_z(source_redshift,line):\n",
      "    return (1+source_redshift)*line\n",
      "\n",
      "def wavelength_v(source_velocity,line):\n",
      "    return (1+source_velocity/299792)*line"
     ],
     "language": "python",
     "metadata": {},
     "outputs": [],
     "prompt_number": 84
    },
    {
     "cell_type": "heading",
     "level": 2,
     "metadata": {},
     "source": [
      "4) Index Calculators"
     ]
    },
    {
     "cell_type": "heading",
     "level": 3,
     "metadata": {
      "slideshow": {
       "slide_type": "-"
      }
     },
     "source": [
      "4.a) Calculate the Wavelength for grating index and pixel"
     ]
    },
    {
     "cell_type": "code",
     "collapsed": false,
     "input": [
      "n  = 4      #grating order\n",
      "Ig = 1680   #grating index\n",
      "py = 10     #pixel spectral position\n",
      "px = 4      #pixel spatial position\n",
      "cal_wavelength(n,alpha(Ig),py,px,coeff)\n",
      " "
     ],
     "language": "python",
     "metadata": {},
     "outputs": [
      {
       "metadata": {},
       "output_type": "pyout",
       "prompt_number": 85,
       "text": [
        "432.45396"
       ]
      }
     ],
     "prompt_number": 85
    },
    {
     "cell_type": "heading",
     "level": 3,
     "metadata": {},
     "source": [
      "4.b )Calculate the Index for High-z source"
     ]
    },
    {
     "cell_type": "code",
     "collapsed": false,
     "input": [
      "n    = 4       #grating order\n",
      "z    = 1.80    #source redshift\n",
      "line = cii158  #line of observation or wavelength in microns\n",
      "py   = 10      #pixel spectral position\n",
      "px   = 4       #pixel spatial position\n",
      "\n",
      "wavelength = wavelength_z(z,line)\n",
      "cal_index(n,wavelength,py,px,coeff)"
     ],
     "language": "python",
     "metadata": {},
     "outputs": [
      {
       "metadata": {},
       "output_type": "pyout",
       "prompt_number": 86,
       "text": [
        "1441.0"
       ]
      }
     ],
     "prompt_number": 86
    },
    {
     "cell_type": "heading",
     "level": 3,
     "metadata": {},
     "source": [
      "4.c) Calculate the Index for low-z source"
     ]
    },
    {
     "cell_type": "code",
     "collapsed": false,
     "input": [
      "n    = 4      #grating order\n",
      "v    = 0      #source velocity in km/s\n",
      "line = co65   #line of observation or wavelength in microns\n",
      "py   = 10     #pixel spectral position\n",
      "px   = 4      #pixel spatial position\n",
      "\n",
      "wavelength = wavelength_v(v,line)\n",
      "cal_index(n,wavelength,py,px,coeff)"
     ],
     "language": "python",
     "metadata": {},
     "outputs": [
      {
       "metadata": {},
       "output_type": "pyout",
       "prompt_number": 87,
       "text": [
        "1654.0"
       ]
      }
     ],
     "prompt_number": 87
    },
    {
     "cell_type": "heading",
     "level": 3,
     "metadata": {},
     "source": [
      "4.d) Calculate the Spectral Position (py) for High-z source"
     ]
    },
    {
     "cell_type": "code",
     "collapsed": false,
     "input": [
      "n    = 4       #grating order\n",
      "z    = 1.80    #source redshift\n",
      "line = cii158  #line of observation or wavelength in microns\n",
      "Ig   = 1441.0  #grating position\n",
      "px   = 4       #pixel spatial position\n",
      "\n",
      "wavelength = wavelength_z(z,line)\n",
      "cal_py(n,px,wavelength,alpha(Ig),coeff)"
     ],
     "language": "python",
     "metadata": {},
     "outputs": [
      {
       "metadata": {},
       "output_type": "pyout",
       "prompt_number": 88,
       "text": [
        "10.0"
       ]
      }
     ],
     "prompt_number": 88
    }
   ],
   "metadata": {}
  }
 ]
}